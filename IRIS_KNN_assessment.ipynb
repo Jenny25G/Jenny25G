{
  "nbformat": 4,
  "nbformat_minor": 0,
  "metadata": {
    "colab": {
      "name": "IRIS-KNN.ipynb",
      "provenance": []
    },
    "kernelspec": {
      "name": "python3",
      "display_name": "Python 3"
    },
    "language_info": {
      "name": "python"
    }
  },
  "cells": [
    {
      "cell_type": "markdown",
      "source": [
        "#KNN CLASSIFICATION\n",
        "###using IRIS dataset\n",
        "###DONE BY: SHIRLYN JENITA J"
      ],
      "metadata": {
        "id": "3wAZnHdOb4pf"
      }
    },
    {
      "cell_type": "code",
      "execution_count": 39,
      "metadata": {
        "id": "XOLu7FRWRMHR"
      },
      "outputs": [],
      "source": [
        "import pandas as pd"
      ]
    },
    {
      "cell_type": "code",
      "source": [
        "import numpy as np "
      ],
      "metadata": {
        "id": "9Y6pvJeWRtEv"
      },
      "execution_count": 40,
      "outputs": []
    },
    {
      "cell_type": "code",
      "source": [
        "import matplotlib.pyplot as plt"
      ],
      "metadata": {
        "id": "GydZ93rhRtHu"
      },
      "execution_count": 41,
      "outputs": []
    },
    {
      "cell_type": "code",
      "source": [
        "import seaborn as sns"
      ],
      "metadata": {
        "id": "sPriXcI8RtKv"
      },
      "execution_count": 42,
      "outputs": []
    },
    {
      "cell_type": "code",
      "source": [
        "iris = pd.read_csv(\"https://github.com/YBI-Foundation/Dataset/raw/main/IRIS.csv\")"
      ],
      "metadata": {
        "id": "V28bpq1KRtO_"
      },
      "execution_count": 43,
      "outputs": []
    },
    {
      "cell_type": "code",
      "source": [
        "iris.head()"
      ],
      "metadata": {
        "colab": {
          "base_uri": "https://localhost:8080/",
          "height": 206
        },
        "id": "285w-7nERxSo",
        "outputId": "88b2d507-7c0b-4dcd-f204-2ce1b1c95afb"
      },
      "execution_count": 44,
      "outputs": [
        {
          "output_type": "execute_result",
          "data": {
            "text/plain": [
              "   sepal_length  sepal_width  petal_length  petal_width      species\n",
              "0           5.1          3.5           1.4          0.2  Iris-setosa\n",
              "1           4.9          3.0           1.4          0.2  Iris-setosa\n",
              "2           4.7          3.2           1.3          0.2  Iris-setosa\n",
              "3           4.6          3.1           1.5          0.2  Iris-setosa\n",
              "4           5.0          3.6           1.4          0.2  Iris-setosa"
            ],
            "text/html": [
              "\n",
              "  <div id=\"df-255d1252-eab1-477a-9070-b8df17d0bd43\">\n",
              "    <div class=\"colab-df-container\">\n",
              "      <div>\n",
              "<style scoped>\n",
              "    .dataframe tbody tr th:only-of-type {\n",
              "        vertical-align: middle;\n",
              "    }\n",
              "\n",
              "    .dataframe tbody tr th {\n",
              "        vertical-align: top;\n",
              "    }\n",
              "\n",
              "    .dataframe thead th {\n",
              "        text-align: right;\n",
              "    }\n",
              "</style>\n",
              "<table border=\"1\" class=\"dataframe\">\n",
              "  <thead>\n",
              "    <tr style=\"text-align: right;\">\n",
              "      <th></th>\n",
              "      <th>sepal_length</th>\n",
              "      <th>sepal_width</th>\n",
              "      <th>petal_length</th>\n",
              "      <th>petal_width</th>\n",
              "      <th>species</th>\n",
              "    </tr>\n",
              "  </thead>\n",
              "  <tbody>\n",
              "    <tr>\n",
              "      <th>0</th>\n",
              "      <td>5.1</td>\n",
              "      <td>3.5</td>\n",
              "      <td>1.4</td>\n",
              "      <td>0.2</td>\n",
              "      <td>Iris-setosa</td>\n",
              "    </tr>\n",
              "    <tr>\n",
              "      <th>1</th>\n",
              "      <td>4.9</td>\n",
              "      <td>3.0</td>\n",
              "      <td>1.4</td>\n",
              "      <td>0.2</td>\n",
              "      <td>Iris-setosa</td>\n",
              "    </tr>\n",
              "    <tr>\n",
              "      <th>2</th>\n",
              "      <td>4.7</td>\n",
              "      <td>3.2</td>\n",
              "      <td>1.3</td>\n",
              "      <td>0.2</td>\n",
              "      <td>Iris-setosa</td>\n",
              "    </tr>\n",
              "    <tr>\n",
              "      <th>3</th>\n",
              "      <td>4.6</td>\n",
              "      <td>3.1</td>\n",
              "      <td>1.5</td>\n",
              "      <td>0.2</td>\n",
              "      <td>Iris-setosa</td>\n",
              "    </tr>\n",
              "    <tr>\n",
              "      <th>4</th>\n",
              "      <td>5.0</td>\n",
              "      <td>3.6</td>\n",
              "      <td>1.4</td>\n",
              "      <td>0.2</td>\n",
              "      <td>Iris-setosa</td>\n",
              "    </tr>\n",
              "  </tbody>\n",
              "</table>\n",
              "</div>\n",
              "      <button class=\"colab-df-convert\" onclick=\"convertToInteractive('df-255d1252-eab1-477a-9070-b8df17d0bd43')\"\n",
              "              title=\"Convert this dataframe to an interactive table.\"\n",
              "              style=\"display:none;\">\n",
              "        \n",
              "  <svg xmlns=\"http://www.w3.org/2000/svg\" height=\"24px\"viewBox=\"0 0 24 24\"\n",
              "       width=\"24px\">\n",
              "    <path d=\"M0 0h24v24H0V0z\" fill=\"none\"/>\n",
              "    <path d=\"M18.56 5.44l.94 2.06.94-2.06 2.06-.94-2.06-.94-.94-2.06-.94 2.06-2.06.94zm-11 1L8.5 8.5l.94-2.06 2.06-.94-2.06-.94L8.5 2.5l-.94 2.06-2.06.94zm10 10l.94 2.06.94-2.06 2.06-.94-2.06-.94-.94-2.06-.94 2.06-2.06.94z\"/><path d=\"M17.41 7.96l-1.37-1.37c-.4-.4-.92-.59-1.43-.59-.52 0-1.04.2-1.43.59L10.3 9.45l-7.72 7.72c-.78.78-.78 2.05 0 2.83L4 21.41c.39.39.9.59 1.41.59.51 0 1.02-.2 1.41-.59l7.78-7.78 2.81-2.81c.8-.78.8-2.07 0-2.86zM5.41 20L4 18.59l7.72-7.72 1.47 1.35L5.41 20z\"/>\n",
              "  </svg>\n",
              "      </button>\n",
              "      \n",
              "  <style>\n",
              "    .colab-df-container {\n",
              "      display:flex;\n",
              "      flex-wrap:wrap;\n",
              "      gap: 12px;\n",
              "    }\n",
              "\n",
              "    .colab-df-convert {\n",
              "      background-color: #E8F0FE;\n",
              "      border: none;\n",
              "      border-radius: 50%;\n",
              "      cursor: pointer;\n",
              "      display: none;\n",
              "      fill: #1967D2;\n",
              "      height: 32px;\n",
              "      padding: 0 0 0 0;\n",
              "      width: 32px;\n",
              "    }\n",
              "\n",
              "    .colab-df-convert:hover {\n",
              "      background-color: #E2EBFA;\n",
              "      box-shadow: 0px 1px 2px rgba(60, 64, 67, 0.3), 0px 1px 3px 1px rgba(60, 64, 67, 0.15);\n",
              "      fill: #174EA6;\n",
              "    }\n",
              "\n",
              "    [theme=dark] .colab-df-convert {\n",
              "      background-color: #3B4455;\n",
              "      fill: #D2E3FC;\n",
              "    }\n",
              "\n",
              "    [theme=dark] .colab-df-convert:hover {\n",
              "      background-color: #434B5C;\n",
              "      box-shadow: 0px 1px 3px 1px rgba(0, 0, 0, 0.15);\n",
              "      filter: drop-shadow(0px 1px 2px rgba(0, 0, 0, 0.3));\n",
              "      fill: #FFFFFF;\n",
              "    }\n",
              "  </style>\n",
              "\n",
              "      <script>\n",
              "        const buttonEl =\n",
              "          document.querySelector('#df-255d1252-eab1-477a-9070-b8df17d0bd43 button.colab-df-convert');\n",
              "        buttonEl.style.display =\n",
              "          google.colab.kernel.accessAllowed ? 'block' : 'none';\n",
              "\n",
              "        async function convertToInteractive(key) {\n",
              "          const element = document.querySelector('#df-255d1252-eab1-477a-9070-b8df17d0bd43');\n",
              "          const dataTable =\n",
              "            await google.colab.kernel.invokeFunction('convertToInteractive',\n",
              "                                                     [key], {});\n",
              "          if (!dataTable) return;\n",
              "\n",
              "          const docLinkHtml = 'Like what you see? Visit the ' +\n",
              "            '<a target=\"_blank\" href=https://colab.research.google.com/notebooks/data_table.ipynb>data table notebook</a>'\n",
              "            + ' to learn more about interactive tables.';\n",
              "          element.innerHTML = '';\n",
              "          dataTable['output_type'] = 'display_data';\n",
              "          await google.colab.output.renderOutput(dataTable, element);\n",
              "          const docLink = document.createElement('div');\n",
              "          docLink.innerHTML = docLinkHtml;\n",
              "          element.appendChild(docLink);\n",
              "        }\n",
              "      </script>\n",
              "    </div>\n",
              "  </div>\n",
              "  "
            ]
          },
          "metadata": {},
          "execution_count": 44
        }
      ]
    },
    {
      "cell_type": "code",
      "source": [
        "iris.columns"
      ],
      "metadata": {
        "colab": {
          "base_uri": "https://localhost:8080/",
          "height": 0
        },
        "id": "bggr15bNR03Y",
        "outputId": "482b2e17-1044-422b-bd07-81bd374b27e5"
      },
      "execution_count": 45,
      "outputs": [
        {
          "output_type": "execute_result",
          "data": {
            "text/plain": [
              "Index(['sepal_length', 'sepal_width', 'petal_length', 'petal_width',\n",
              "       'species'],\n",
              "      dtype='object')"
            ]
          },
          "metadata": {},
          "execution_count": 45
        }
      ]
    },
    {
      "cell_type": "code",
      "source": [
        "X = iris.drop(['species'], axis = 1)"
      ],
      "metadata": {
        "id": "xE5fHoXiR4WX"
      },
      "execution_count": 46,
      "outputs": []
    },
    {
      "cell_type": "code",
      "source": [
        "y = iris['species']"
      ],
      "metadata": {
        "id": "QXgEBOdoVsyq"
      },
      "execution_count": 47,
      "outputs": []
    },
    {
      "cell_type": "code",
      "source": [
        "y"
      ],
      "metadata": {
        "colab": {
          "base_uri": "https://localhost:8080/",
          "height": 0
        },
        "id": "Ube-18BuR65o",
        "outputId": "611821a1-0ee4-4f07-f611-0e2876a6c21f"
      },
      "execution_count": 48,
      "outputs": [
        {
          "output_type": "execute_result",
          "data": {
            "text/plain": [
              "0         Iris-setosa\n",
              "1         Iris-setosa\n",
              "2         Iris-setosa\n",
              "3         Iris-setosa\n",
              "4         Iris-setosa\n",
              "            ...      \n",
              "145    Iris-virginica\n",
              "146    Iris-virginica\n",
              "147    Iris-virginica\n",
              "148    Iris-virginica\n",
              "149    Iris-virginica\n",
              "Name: species, Length: 150, dtype: object"
            ]
          },
          "metadata": {},
          "execution_count": 48
        }
      ]
    },
    {
      "cell_type": "code",
      "source": [
        "from sklearn.preprocessing import LabelEncoder\n",
        "le = LabelEncoder()\n",
        "y = le.fit_transform(y)\n",
        "y"
      ],
      "metadata": {
        "colab": {
          "base_uri": "https://localhost:8080/",
          "height": 0
        },
        "id": "_vEcMqdDX-i1",
        "outputId": "a2fc1ca3-e736-46f2-851a-14ebb179f0fe"
      },
      "execution_count": 49,
      "outputs": [
        {
          "output_type": "execute_result",
          "data": {
            "text/plain": [
              "array([0, 0, 0, 0, 0, 0, 0, 0, 0, 0, 0, 0, 0, 0, 0, 0, 0, 0, 0, 0, 0, 0,\n",
              "       0, 0, 0, 0, 0, 0, 0, 0, 0, 0, 0, 0, 0, 0, 0, 0, 0, 0, 0, 0, 0, 0,\n",
              "       0, 0, 0, 0, 0, 0, 1, 1, 1, 1, 1, 1, 1, 1, 1, 1, 1, 1, 1, 1, 1, 1,\n",
              "       1, 1, 1, 1, 1, 1, 1, 1, 1, 1, 1, 1, 1, 1, 1, 1, 1, 1, 1, 1, 1, 1,\n",
              "       1, 1, 1, 1, 1, 1, 1, 1, 1, 1, 1, 1, 2, 2, 2, 2, 2, 2, 2, 2, 2, 2,\n",
              "       2, 2, 2, 2, 2, 2, 2, 2, 2, 2, 2, 2, 2, 2, 2, 2, 2, 2, 2, 2, 2, 2,\n",
              "       2, 2, 2, 2, 2, 2, 2, 2, 2, 2, 2, 2, 2, 2, 2, 2, 2, 2])"
            ]
          },
          "metadata": {},
          "execution_count": 49
        }
      ]
    },
    {
      "cell_type": "code",
      "source": [
        "from sklearn.model_selection import train_test_split"
      ],
      "metadata": {
        "id": "d5vLiBf-YaRs"
      },
      "execution_count": 50,
      "outputs": []
    },
    {
      "cell_type": "code",
      "source": [
        "X_train, X_test, y_train, y_test = train_test_split(X,y, train_size = 0.7, random_state = 2529)"
      ],
      "metadata": {
        "id": "kVygtYydYaMO"
      },
      "execution_count": 51,
      "outputs": []
    },
    {
      "cell_type": "code",
      "source": [
        "X_train.shape , X_test.shape, y_train.shape, y_test.shape"
      ],
      "metadata": {
        "colab": {
          "base_uri": "https://localhost:8080/",
          "height": 0
        },
        "id": "u5cZmJORYg5B",
        "outputId": "bdf40d21-d989-454b-8a45-f444a95ccc72"
      },
      "execution_count": 52,
      "outputs": [
        {
          "output_type": "execute_result",
          "data": {
            "text/plain": [
              "((105, 4), (45, 4), (105,), (45,))"
            ]
          },
          "metadata": {},
          "execution_count": 52
        }
      ]
    },
    {
      "cell_type": "code",
      "source": [
        "X_train"
      ],
      "metadata": {
        "colab": {
          "base_uri": "https://localhost:8080/",
          "height": 424
        },
        "id": "lCsMVmAkYg2G",
        "outputId": "e3c9a0cb-cf28-4e6b-d4e6-57655cbb64b7"
      },
      "execution_count": 53,
      "outputs": [
        {
          "output_type": "execute_result",
          "data": {
            "text/plain": [
              "     sepal_length  sepal_width  petal_length  petal_width\n",
              "84            5.4          3.0           4.5          1.5\n",
              "13            4.3          3.0           1.1          0.1\n",
              "64            5.6          2.9           3.6          1.3\n",
              "39            5.1          3.4           1.5          0.2\n",
              "79            5.7          2.6           3.5          1.0\n",
              "..            ...          ...           ...          ...\n",
              "72            6.3          2.5           4.9          1.5\n",
              "143           6.8          3.2           5.9          2.3\n",
              "60            5.0          2.0           3.5          1.0\n",
              "50            7.0          3.2           4.7          1.4\n",
              "96            5.7          2.9           4.2          1.3\n",
              "\n",
              "[105 rows x 4 columns]"
            ],
            "text/html": [
              "\n",
              "  <div id=\"df-61472ffe-bfad-4433-9b2b-512f1aef56d5\">\n",
              "    <div class=\"colab-df-container\">\n",
              "      <div>\n",
              "<style scoped>\n",
              "    .dataframe tbody tr th:only-of-type {\n",
              "        vertical-align: middle;\n",
              "    }\n",
              "\n",
              "    .dataframe tbody tr th {\n",
              "        vertical-align: top;\n",
              "    }\n",
              "\n",
              "    .dataframe thead th {\n",
              "        text-align: right;\n",
              "    }\n",
              "</style>\n",
              "<table border=\"1\" class=\"dataframe\">\n",
              "  <thead>\n",
              "    <tr style=\"text-align: right;\">\n",
              "      <th></th>\n",
              "      <th>sepal_length</th>\n",
              "      <th>sepal_width</th>\n",
              "      <th>petal_length</th>\n",
              "      <th>petal_width</th>\n",
              "    </tr>\n",
              "  </thead>\n",
              "  <tbody>\n",
              "    <tr>\n",
              "      <th>84</th>\n",
              "      <td>5.4</td>\n",
              "      <td>3.0</td>\n",
              "      <td>4.5</td>\n",
              "      <td>1.5</td>\n",
              "    </tr>\n",
              "    <tr>\n",
              "      <th>13</th>\n",
              "      <td>4.3</td>\n",
              "      <td>3.0</td>\n",
              "      <td>1.1</td>\n",
              "      <td>0.1</td>\n",
              "    </tr>\n",
              "    <tr>\n",
              "      <th>64</th>\n",
              "      <td>5.6</td>\n",
              "      <td>2.9</td>\n",
              "      <td>3.6</td>\n",
              "      <td>1.3</td>\n",
              "    </tr>\n",
              "    <tr>\n",
              "      <th>39</th>\n",
              "      <td>5.1</td>\n",
              "      <td>3.4</td>\n",
              "      <td>1.5</td>\n",
              "      <td>0.2</td>\n",
              "    </tr>\n",
              "    <tr>\n",
              "      <th>79</th>\n",
              "      <td>5.7</td>\n",
              "      <td>2.6</td>\n",
              "      <td>3.5</td>\n",
              "      <td>1.0</td>\n",
              "    </tr>\n",
              "    <tr>\n",
              "      <th>...</th>\n",
              "      <td>...</td>\n",
              "      <td>...</td>\n",
              "      <td>...</td>\n",
              "      <td>...</td>\n",
              "    </tr>\n",
              "    <tr>\n",
              "      <th>72</th>\n",
              "      <td>6.3</td>\n",
              "      <td>2.5</td>\n",
              "      <td>4.9</td>\n",
              "      <td>1.5</td>\n",
              "    </tr>\n",
              "    <tr>\n",
              "      <th>143</th>\n",
              "      <td>6.8</td>\n",
              "      <td>3.2</td>\n",
              "      <td>5.9</td>\n",
              "      <td>2.3</td>\n",
              "    </tr>\n",
              "    <tr>\n",
              "      <th>60</th>\n",
              "      <td>5.0</td>\n",
              "      <td>2.0</td>\n",
              "      <td>3.5</td>\n",
              "      <td>1.0</td>\n",
              "    </tr>\n",
              "    <tr>\n",
              "      <th>50</th>\n",
              "      <td>7.0</td>\n",
              "      <td>3.2</td>\n",
              "      <td>4.7</td>\n",
              "      <td>1.4</td>\n",
              "    </tr>\n",
              "    <tr>\n",
              "      <th>96</th>\n",
              "      <td>5.7</td>\n",
              "      <td>2.9</td>\n",
              "      <td>4.2</td>\n",
              "      <td>1.3</td>\n",
              "    </tr>\n",
              "  </tbody>\n",
              "</table>\n",
              "<p>105 rows × 4 columns</p>\n",
              "</div>\n",
              "      <button class=\"colab-df-convert\" onclick=\"convertToInteractive('df-61472ffe-bfad-4433-9b2b-512f1aef56d5')\"\n",
              "              title=\"Convert this dataframe to an interactive table.\"\n",
              "              style=\"display:none;\">\n",
              "        \n",
              "  <svg xmlns=\"http://www.w3.org/2000/svg\" height=\"24px\"viewBox=\"0 0 24 24\"\n",
              "       width=\"24px\">\n",
              "    <path d=\"M0 0h24v24H0V0z\" fill=\"none\"/>\n",
              "    <path d=\"M18.56 5.44l.94 2.06.94-2.06 2.06-.94-2.06-.94-.94-2.06-.94 2.06-2.06.94zm-11 1L8.5 8.5l.94-2.06 2.06-.94-2.06-.94L8.5 2.5l-.94 2.06-2.06.94zm10 10l.94 2.06.94-2.06 2.06-.94-2.06-.94-.94-2.06-.94 2.06-2.06.94z\"/><path d=\"M17.41 7.96l-1.37-1.37c-.4-.4-.92-.59-1.43-.59-.52 0-1.04.2-1.43.59L10.3 9.45l-7.72 7.72c-.78.78-.78 2.05 0 2.83L4 21.41c.39.39.9.59 1.41.59.51 0 1.02-.2 1.41-.59l7.78-7.78 2.81-2.81c.8-.78.8-2.07 0-2.86zM5.41 20L4 18.59l7.72-7.72 1.47 1.35L5.41 20z\"/>\n",
              "  </svg>\n",
              "      </button>\n",
              "      \n",
              "  <style>\n",
              "    .colab-df-container {\n",
              "      display:flex;\n",
              "      flex-wrap:wrap;\n",
              "      gap: 12px;\n",
              "    }\n",
              "\n",
              "    .colab-df-convert {\n",
              "      background-color: #E8F0FE;\n",
              "      border: none;\n",
              "      border-radius: 50%;\n",
              "      cursor: pointer;\n",
              "      display: none;\n",
              "      fill: #1967D2;\n",
              "      height: 32px;\n",
              "      padding: 0 0 0 0;\n",
              "      width: 32px;\n",
              "    }\n",
              "\n",
              "    .colab-df-convert:hover {\n",
              "      background-color: #E2EBFA;\n",
              "      box-shadow: 0px 1px 2px rgba(60, 64, 67, 0.3), 0px 1px 3px 1px rgba(60, 64, 67, 0.15);\n",
              "      fill: #174EA6;\n",
              "    }\n",
              "\n",
              "    [theme=dark] .colab-df-convert {\n",
              "      background-color: #3B4455;\n",
              "      fill: #D2E3FC;\n",
              "    }\n",
              "\n",
              "    [theme=dark] .colab-df-convert:hover {\n",
              "      background-color: #434B5C;\n",
              "      box-shadow: 0px 1px 3px 1px rgba(0, 0, 0, 0.15);\n",
              "      filter: drop-shadow(0px 1px 2px rgba(0, 0, 0, 0.3));\n",
              "      fill: #FFFFFF;\n",
              "    }\n",
              "  </style>\n",
              "\n",
              "      <script>\n",
              "        const buttonEl =\n",
              "          document.querySelector('#df-61472ffe-bfad-4433-9b2b-512f1aef56d5 button.colab-df-convert');\n",
              "        buttonEl.style.display =\n",
              "          google.colab.kernel.accessAllowed ? 'block' : 'none';\n",
              "\n",
              "        async function convertToInteractive(key) {\n",
              "          const element = document.querySelector('#df-61472ffe-bfad-4433-9b2b-512f1aef56d5');\n",
              "          const dataTable =\n",
              "            await google.colab.kernel.invokeFunction('convertToInteractive',\n",
              "                                                     [key], {});\n",
              "          if (!dataTable) return;\n",
              "\n",
              "          const docLinkHtml = 'Like what you see? Visit the ' +\n",
              "            '<a target=\"_blank\" href=https://colab.research.google.com/notebooks/data_table.ipynb>data table notebook</a>'\n",
              "            + ' to learn more about interactive tables.';\n",
              "          element.innerHTML = '';\n",
              "          dataTable['output_type'] = 'display_data';\n",
              "          await google.colab.output.renderOutput(dataTable, element);\n",
              "          const docLink = document.createElement('div');\n",
              "          docLink.innerHTML = docLinkHtml;\n",
              "          element.appendChild(docLink);\n",
              "        }\n",
              "      </script>\n",
              "    </div>\n",
              "  </div>\n",
              "  "
            ]
          },
          "metadata": {},
          "execution_count": 53
        }
      ]
    },
    {
      "cell_type": "code",
      "source": [
        "from sklearn.preprocessing import StandardScaler"
      ],
      "metadata": {
        "id": "APbo6FjtYgzT"
      },
      "execution_count": 54,
      "outputs": []
    },
    {
      "cell_type": "code",
      "source": [
        "from sklearn.preprocessing import MinMaxScaler"
      ],
      "metadata": {
        "id": "iqZ6pFjLYgwL"
      },
      "execution_count": 55,
      "outputs": []
    },
    {
      "cell_type": "code",
      "source": [
        "ss = StandardScaler()"
      ],
      "metadata": {
        "id": "KAD9QdrYYgtY"
      },
      "execution_count": 56,
      "outputs": []
    },
    {
      "cell_type": "code",
      "source": [
        "X_train = ss.fit_transform(X_train)"
      ],
      "metadata": {
        "id": "wphOgeEKY2yv"
      },
      "execution_count": 57,
      "outputs": []
    },
    {
      "cell_type": "code",
      "source": [
        "X_train"
      ],
      "metadata": {
        "colab": {
          "base_uri": "https://localhost:8080/",
          "height": 0
        },
        "id": "n_yrb29jY2vq",
        "outputId": "ee286229-90d2-40bb-d61c-8c3c3f9598d6"
      },
      "execution_count": 58,
      "outputs": [
        {
          "output_type": "execute_result",
          "data": {
            "text/plain": [
              "array([[-0.45274402, -0.05379268,  0.53306676,  0.5028967 ],\n",
              "       [-1.88933563, -0.05379268, -1.49576942, -1.42728124],\n",
              "       [-0.19154555, -0.27972194, -0.00397811,  0.227157  ],\n",
              "       [-0.84454173,  0.84992435, -1.25708281, -1.28941139],\n",
              "       [-0.06094631, -0.95750971, -0.06364976, -0.18645256],\n",
              "       [-0.7139425 ,  2.43142916, -1.25708281, -1.42728124],\n",
              "       [-0.84454173,  1.75364139, -1.0183962 , -1.01367168],\n",
              "       [-0.19154555, -1.18343897,  0.17503685, -0.04858271],\n",
              "       [-1.23633945,  0.84992435, -1.0183962 , -1.28941139],\n",
              "       [ 0.72264911, -1.18343897,  0.83142502,  1.05437611],\n",
              "       [-0.06094631, -0.05379268,  0.3540518 ,  0.08928714],\n",
              "       [ 0.20025216,  0.39806584,  0.71208172,  0.91650626],\n",
              "       [-0.84454173,  1.75364139, -1.25708281, -1.15154153],\n",
              "       [-1.10574021, -1.40936823, -0.18299307, -0.18645256],\n",
              "       [ 0.59204988, -0.27972194,  0.41372346,  0.227157  ],\n",
              "       [ 0.85324835,  0.39806584,  1.01043998,  1.60585552],\n",
              "       [-0.32214479,  2.65735842, -1.31675446, -1.28941139],\n",
              "       [ 0.72264911, -0.27972194,  1.18945493,  0.91650626],\n",
              "       [ 0.98384759, -0.5056512 ,  0.59273841,  0.5028967 ],\n",
              "       [-0.97514097,  0.84992435, -1.19741116, -1.01367168],\n",
              "       [-0.06094631, -1.18343897,  0.83142502,  1.19224597],\n",
              "       [-0.45274402,  0.84992435, -1.1377395 , -1.28941139],\n",
              "       [-0.32214479, -1.18343897,  0.2347085 ,  0.227157  ],\n",
              "       [ 0.85324835, -0.5056512 ,  1.18945493,  1.46798567],\n",
              "       [-1.49753792,  0.17213658, -1.25708281, -1.28941139],\n",
              "       [ 1.89804225,  1.30178287,  1.4878132 ,  1.88159523],\n",
              "       [ 0.98384759, -0.05379268,  1.12978328,  0.91650626],\n",
              "       [-0.06094631,  1.75364139, -1.1377395 , -1.15154153],\n",
              "       [-0.19154555, -0.05379268,  0.53306676,  0.5028967 ],\n",
              "       [-0.97514097,  1.30178287, -1.31675446, -1.28941139],\n",
              "       [ 0.59204988, -1.86122675,  0.53306676,  0.5028967 ],\n",
              "       [ 0.46145064, -0.27972194,  0.65241006,  0.36502685],\n",
              "       [ 0.85324835, -0.73158046,  1.01043998,  1.05437611],\n",
              "       [-0.7139425 ,  1.07585361, -1.25708281, -1.28941139],\n",
              "       [-0.7139425 , -0.73158046,  0.17503685,  0.36502685],\n",
              "       [-0.84454173,  1.07585361, -1.31675446, -1.28941139],\n",
              "       [ 1.24504606, -1.18343897,  1.30879824,  0.91650626],\n",
              "       [ 0.06965293, -0.73158046,  0.17503685,  0.08928714],\n",
              "       [-1.23633945, -0.05379268, -1.31675446, -1.15154153],\n",
              "       [-1.49753792,  0.39806584, -1.31675446, -1.28941139],\n",
              "       [ 0.98384759, -0.05379268,  0.95076833,  1.19224597],\n",
              "       [ 2.55103844, -0.95750971,  1.96518641,  1.60585552],\n",
              "       [ 1.24504606, -0.05379268,  0.83142502,  0.77863641],\n",
              "       [ 1.24504606,  0.17213658,  1.18945493,  1.74372538],\n",
              "       [-1.7587364 , -0.05379268, -1.37642611, -1.28941139],\n",
              "       [-0.84454173, -1.18343897, -0.36200802, -0.04858271],\n",
              "       [-0.84454173,  1.07585361, -1.31675446, -1.15154153],\n",
              "       [-0.97514097,  0.62399509, -1.31675446, -1.28941139],\n",
              "       [-1.7587364 , -0.27972194, -1.31675446, -1.28941139],\n",
              "       [ 0.72264911, -0.73158046,  0.77175337,  0.91650626],\n",
              "       [-1.36693868,  0.39806584, -1.19741116, -1.28941139],\n",
              "       [ 1.24504606,  0.17213658,  0.65241006,  0.5028967 ],\n",
              "       [ 0.3308514 , -1.86122675,  0.2347085 , -0.18645256],\n",
              "       [ 2.55103844, -0.05379268,  1.4878132 ,  1.60585552],\n",
              "       [ 0.98384759, -0.05379268,  1.30879824,  1.46798567],\n",
              "       [ 1.11444683, -0.05379268,  0.47339511,  0.36502685],\n",
              "       [ 0.85324835, -0.27972194,  0.41372346,  0.227157  ],\n",
              "       [ 0.06965293, -0.73158046,  0.89109667,  1.05437611],\n",
              "       [-0.06094631, -0.5056512 ,  0.29438015,  0.227157  ],\n",
              "       [ 1.89804225,  0.39806584,  1.42814154,  0.91650626],\n",
              "       [ 1.24504606, -0.05379268,  0.95076833,  1.60585552],\n",
              "       [ 0.3308514 , -1.86122675,  0.83142502,  0.5028967 ],\n",
              "       [ 0.85324835,  0.17213658,  1.12978328,  0.91650626],\n",
              "       [ 0.72264911, -1.63529749,  0.47339511,  0.227157  ],\n",
              "       [-1.23633945,  0.84992435, -1.19741116, -1.28941139],\n",
              "       [-0.97514097, -1.63529749, -0.18299307, -0.18645256],\n",
              "       [-0.45274402,  1.97957065, -1.37642611, -1.01367168],\n",
              "       [ 0.59204988, -0.5056512 ,  0.71208172,  0.91650626],\n",
              "       [ 1.24504606,  0.17213658,  0.47339511,  0.36502685],\n",
              "       [-0.19154555, -0.73158046,  0.3540518 ,  0.227157  ],\n",
              "       [ 0.3308514 , -0.27972194,  0.53306676,  0.5028967 ],\n",
              "       [-0.45274402,  1.97957065, -1.1377395 , -1.01367168],\n",
              "       [ 0.46145064, -0.05379268,  0.77175337,  0.91650626],\n",
              "       [ 1.3756453 , -0.05379268,  1.12978328,  1.33011582],\n",
              "       [ 0.72264911, -0.5056512 ,  0.89109667,  0.5028967 ],\n",
              "       [ 0.3308514 , -0.73158046,  0.89109667,  0.64076655],\n",
              "       [-1.23633945,  0.17213658, -1.19741116, -1.28941139],\n",
              "       [ 0.46145064, -0.5056512 ,  0.65241006,  0.08928714],\n",
              "       [ 0.06965293,  2.2054999 , -1.43609776, -1.28941139],\n",
              "       [-0.45274402,  0.84992435, -1.25708281, -1.01367168],\n",
              "       [-0.32214479, -1.40936823,  0.05569354, -0.18645256],\n",
              "       [-1.49753792,  1.30178287, -1.55544107, -1.28941139],\n",
              "       [-1.62813716, -1.63529749, -1.37642611, -1.15154153],\n",
              "       [ 0.72264911,  0.62399509,  0.65241006,  0.64076655],\n",
              "       [-0.32214479,  1.07585361, -1.37642611, -1.28941139],\n",
              "       [ 0.06965293, -0.73158046,  0.29438015, -0.18645256],\n",
              "       [-1.7587364 ,  0.39806584, -1.37642611, -1.28941139],\n",
              "       [-1.36693868,  0.39806584, -1.37642611, -1.28941139],\n",
              "       [-0.97514097,  0.84992435, -1.25708281, -1.28941139],\n",
              "       [ 0.06965293, -0.95750971,  0.2347085 ,  0.08928714],\n",
              "       [ 0.72264911,  0.84992435,  1.18945493,  1.74372538],\n",
              "       [ 0.46145064, -0.5056512 ,  0.2347085 ,  0.227157  ],\n",
              "       [-0.06094631, -0.5056512 ,  0.53306676,  0.227157  ],\n",
              "       [-1.10574021, -1.18343897,  0.53306676,  0.77863641],\n",
              "       [-1.10574021,  0.17213658, -1.25708281, -1.42728124],\n",
              "       [-0.97514097,  1.07585361, -1.37642611, -1.15154153],\n",
              "       [ 1.11444683, -0.27972194,  0.59273841,  0.227157  ],\n",
              "       [-0.97514097,  1.07585361, -1.19741116, -0.73793197],\n",
              "       [ 0.3308514 ,  0.84992435,  0.53306676,  0.64076655],\n",
              "       [ 1.24504606,  0.62399509,  1.24912659,  1.33011582],\n",
              "       [ 0.72264911, -1.18343897,  0.77175337,  0.5028967 ],\n",
              "       [ 1.3756453 ,  0.39806584,  1.36846989,  1.60585552],\n",
              "       [-0.97514097, -2.31308526, -0.06364976, -0.18645256],\n",
              "       [ 1.63684377,  0.39806584,  0.65241006,  0.36502685],\n",
              "       [-0.06094631, -0.27972194,  0.3540518 ,  0.227157  ]])"
            ]
          },
          "metadata": {},
          "execution_count": 58
        }
      ]
    },
    {
      "cell_type": "code",
      "source": [
        "X_test = ss.fit_transform(X_test)"
      ],
      "metadata": {
        "id": "611lfNjLY2sS"
      },
      "execution_count": 59,
      "outputs": []
    },
    {
      "cell_type": "code",
      "source": [
        "from sklearn.neighbors import KNeighborsClassifier"
      ],
      "metadata": {
        "id": "IBsVMe2dZAtg"
      },
      "execution_count": 60,
      "outputs": []
    },
    {
      "cell_type": "code",
      "source": [
        "knncla = KNeighborsClassifier()"
      ],
      "metadata": {
        "id": "SUwfm9sgZAwg"
      },
      "execution_count": 61,
      "outputs": []
    },
    {
      "cell_type": "code",
      "source": [
        "knncla.fit(X_train, y_train)"
      ],
      "metadata": {
        "colab": {
          "base_uri": "https://localhost:8080/",
          "height": 0
        },
        "id": "CmVUTcrVZAzi",
        "outputId": "1fe5ae7c-535e-49cb-d62b-9305bdd3ef8a"
      },
      "execution_count": 62,
      "outputs": [
        {
          "output_type": "execute_result",
          "data": {
            "text/plain": [
              "KNeighborsClassifier()"
            ]
          },
          "metadata": {},
          "execution_count": 62
        }
      ]
    },
    {
      "cell_type": "code",
      "source": [
        "y_pred = knncla.predict(X_test)"
      ],
      "metadata": {
        "id": "TSrmqXT8ZA23"
      },
      "execution_count": 63,
      "outputs": []
    },
    {
      "cell_type": "code",
      "source": [
        "from sklearn.metrics import classification_report , confusion_matrix"
      ],
      "metadata": {
        "id": "3kofyHuNZA5y"
      },
      "execution_count": 64,
      "outputs": []
    },
    {
      "cell_type": "code",
      "source": [
        "confusion_matrix(y_test , y_pred)"
      ],
      "metadata": {
        "colab": {
          "base_uri": "https://localhost:8080/",
          "height": 0
        },
        "id": "GxynR0JKY2pJ",
        "outputId": "506164a8-0e25-4177-a52e-6a2e90a1efa0"
      },
      "execution_count": 65,
      "outputs": [
        {
          "output_type": "execute_result",
          "data": {
            "text/plain": [
              "array([[14,  0,  0],\n",
              "       [ 0,  9,  0],\n",
              "       [ 0,  8, 14]])"
            ]
          },
          "metadata": {},
          "execution_count": 65
        }
      ]
    },
    {
      "cell_type": "code",
      "source": [
        "print(classification_report(y_test, y_pred))"
      ],
      "metadata": {
        "colab": {
          "base_uri": "https://localhost:8080/",
          "height": 0
        },
        "id": "7Y7PhzftUj0B",
        "outputId": "35f10af3-94a4-4ae5-9376-7d601ba4383a"
      },
      "execution_count": 66,
      "outputs": [
        {
          "output_type": "stream",
          "name": "stdout",
          "text": [
            "              precision    recall  f1-score   support\n",
            "\n",
            "           0       1.00      1.00      1.00        14\n",
            "           1       0.53      1.00      0.69         9\n",
            "           2       1.00      0.64      0.78        22\n",
            "\n",
            "    accuracy                           0.82        45\n",
            "   macro avg       0.84      0.88      0.82        45\n",
            "weighted avg       0.91      0.82      0.83        45\n",
            "\n"
          ]
        }
      ]
    },
    {
      "cell_type": "code",
      "source": [
        ""
      ],
      "metadata": {
        "id": "dx1gdAQuZLkA"
      },
      "execution_count": 66,
      "outputs": []
    }
  ]
}